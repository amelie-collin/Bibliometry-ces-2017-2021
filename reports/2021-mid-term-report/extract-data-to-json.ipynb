{
 "cells": [
  {
   "cell_type": "code",
   "execution_count": 1,
   "id": "9fc97c13-e7b5-4261-9e3a-8948ed6f0306",
   "metadata": {},
   "outputs": [],
   "source": [
    "import requests\n",
    "import pandas as pd\n",
    "import numpy as np\n",
    "import matplotlib.pyplot as plt\n",
    "import unidecode\n",
    "import json\n",
    "import re\n",
    "from typing import Any, Dict, List, Callable\n",
    "from datetime import datetime"
   ]
  },
  {
   "cell_type": "markdown",
   "id": "8af57acc-a31e-42e3-a350-b5bed45c0737",
   "metadata": {},
   "source": [
    "# Load JSON Data File"
   ]
  },
  {
   "cell_type": "markdown",
   "id": "812ced08-a423-4f14-92b5-ebce3a886ad0",
   "metadata": {},
   "source": [
    "## Why are we doing this ?\n",
    "\n",
    "We extract the HAL API results and store them in a json file.\n",
    "\n",
    "If someone edits an article the `submittedDate_tdate` in HAL API results will change\n",
    "\n",
    "### Example\n",
    "\n",
    "Imagine the following use case :\n",
    "\n",
    "| DATE       | ACTION                                                                  | RESULT                                                                          |\n",
    "|:----------:|:------------------------------------------------------------------------|:--------------------------------------------------------------------------------|\n",
    "| 2021-02-14 | An authors submitted the document with a preprint versions              | The document `sample_uri` is created with `submittedDate_tdate=2021-02-14`      |\n",
    "| 2021-07-10 | We extract all articles submitted between `2017-01-01` and `2021-07-05` | The document `sample_uri` is in the exported data                               |\n",
    "| 2021-07-17 | The publisher change the document to submit the printed versions        | The document `sample_uri` is updated. The `submittedDate_tdate` will be updated to `submittedDate_tdate=2021-07-17` |\n",
    "| 2021-07-21 | We extract all articles submitted between `2017-01-01` and `2021-07-05` | The document `sample_uri` is **NOT ANYMORE** in the exported data               |\n",
    "\n",
    "### Is there a solution ?\n",
    "\n",
    "If fact, there is no magic here...\n",
    "\n",
    "We have to retrieve **manually** all articles between `2021-07-05` and `NOW` and filtered the document that should be integrated in the exported data !"
   ]
  },
  {
   "cell_type": "markdown",
   "id": "8e58b612-9546-4e7b-b0f8-db2f51bc0bba",
   "metadata": {},
   "source": [
    "## Constants\n",
    "\n",
    "Define primary constants\n",
    "\n",
    "* `LAB_STRUCT_ID` : The identifier in HAL of the CES\n",
    "* `EXPORT_DATE` : The current date as string"
   ]
  },
  {
   "cell_type": "code",
   "execution_count": 2,
   "id": "a656f5d9-36b0-4913-b4b2-d647ec0318ab",
   "metadata": {},
   "outputs": [],
   "source": [
    "LAB_STRUCT_ID = 15080\n",
    "EXPORT_DATE = datetime.now().strftime(\"%Y-%m-%dT%H-%M\")"
   ]
  },
  {
   "cell_type": "markdown",
   "id": "bc71b7c2-73f5-4ece-8628-0109355f7506",
   "metadata": {},
   "source": [
    "## Datasets\n",
    "\n",
    "To retrieve the data we will work on, we're using the HAL API. This API is very well documented here :\n",
    "\n",
    "* Getting started : https://api.archives-ouvertes.fr/docs/search\n",
    "* Fields : https://api.archives-ouvertes.fr/docs/search/?schema=fields#fields\n",
    "\n",
    "To retrieve the data we will work on, we're using the HAL API. This API is very well documented here :\n",
    "\n",
    "* Getting started : https://api.archives-ouvertes.fr/docs/search\n",
    "* Fields : https://api.archives-ouvertes.fr/docs/search/?schema=fields#fields\n"
   ]
  },
  {
   "cell_type": "markdown",
   "id": "a301509d-b09c-486e-9cd7-65c69b8b855e",
   "metadata": {},
   "source": [
    "### Calculate number of documents for the specified period"
   ]
  },
  {
   "cell_type": "code",
   "execution_count": 3,
   "id": "8df5a575-c8d2-49a8-8206-e6e98ddeb656",
   "metadata": {},
   "outputs": [
    {
     "name": "stdout",
     "output_type": "stream",
     "text": [
      "The is 475 documents response for query :\n",
      "{\n",
      "  \"wt\": \"json\",\n",
      "  \"q\": \"labStructId_i:15080\",\n",
      "  \"fq\": [\n",
      "    \"publicationDate_tdate:[2017-01-01T00:00:00Z TO 2021-07-01T00:00:00Z]\",\n",
      "    \"submittedDate_tdate:[2010-01-01T00:00:00Z TO 2021-07-05T00:00:00Z]\",\n",
      "    \"docType_s:ART\"\n",
      "  ],\n",
      "  \"fl\": \"label_s,uri_s,keyword_s,authEmail_s,authFullName_s,authFirstName_s,authLastName_s,authStructId_i,authId_i,authIdHasPrimaryStructure_fs,authIdHasStructure_fs,keyword_s,jel_s,journalIssn_s,journalTitle_s,anrProjectReference_s,anrProjectTitle_s,anrProjectAcronym_s,europeanProjectReference_s,europeanProjectReference_s,europeanProjectAcronym_s,funding_s,instStructCountry_s,instStructName_s,files_s,language_s,labStructAcronym_s,labStructCode_s,contributorFullName_s,openAccess_bool\"\n",
      "}\n"
     ]
    }
   ],
   "source": [
    "filter_queries = dict(\n",
    "    publicationDate_tdate='[2017-01-01T00:00:00Z TO 2021-07-01T00:00:00Z]',\n",
    "    submittedDate_tdate='[2010-01-01T00:00:00Z TO 2021-07-05T00:00:00Z]',\n",
    "    docType_s='ART'\n",
    ")\n",
    "response_fields = [\n",
    "    'label_s',\n",
    "    'uri_s',\n",
    "    'keyword_s',\n",
    "    'authEmail_s',\n",
    "    'authFullName_s',\n",
    "    'authFirstName_s',\n",
    "    'authLastName_s',\n",
    "    'authStructId_i',\n",
    "    'authId_i',\n",
    "    'authIdHasPrimaryStructure_fs',\n",
    "    'authIdHasStructure_fs',\n",
    "    'keyword_s',\n",
    "    'jel_s',\n",
    "    'journalIssn_s',\n",
    "    'journalTitle_s',\n",
    "    'anrProjectReference_s',\n",
    "    'anrProjectTitle_s',\n",
    "    'anrProjectAcronym_s',\n",
    "    'europeanProjectReference_s',\n",
    "    'europeanProjectReference_s',\n",
    "    'europeanProjectAcronym_s',\n",
    "    'funding_s',\n",
    "    'instStructCountry_s',\n",
    "    'instStructName_s',\n",
    "    'files_s',\n",
    "    'language_s',\n",
    "    'labStructAcronym_s',\n",
    "    'labStructCode_s',\n",
    "    'contributorFullName_s',\n",
    "    'openAccess_bool',\n",
    "]\n",
    "params = dict(\n",
    "    wt='json',\n",
    "    q=f'labStructId_i:{LAB_STRUCT_ID}',\n",
    "    fq=[f'{k}:{v}' for k, v in filter_queries.items()],\n",
    "    fl=','.join(response_fields)\n",
    ")\n",
    "# Count the number of rows\n",
    "r = requests.get('http://api.archives-ouvertes.fr/search', params={**params | dict(rows=0)})\n",
    "num_found = r.json().get('response', dict()).get('numFound', 0)\n",
    "print(f'The is {num_found} documents response for query :\\n{json.dumps(params, indent=2)}')"
   ]
  },
  {
   "cell_type": "markdown",
   "id": "e1812d83-cceb-4541-ad22-b0f3d9a04bf5",
   "metadata": {},
   "source": [
    "### Writing all the documents in a result files "
   ]
  },
  {
   "cell_type": "code",
   "execution_count": 4,
   "id": "07d9a966-745b-43cd-906a-b444e6dd1a6d",
   "metadata": {},
   "outputs": [
    {
     "name": "stdout",
     "output_type": "stream",
     "text": [
      "Read the documents : http://api.archives-ouvertes.fr/search?wt=json&q=labStructId_i%3A15080&fq=publicationDate_tdate%3A%5B2017-01-01T00%3A00%3A00Z+TO+2021-07-01T00%3A00%3A00Z%5D&fq=submittedDate_tdate%3A%5B2010-01-01T00%3A00%3A00Z+TO+2021-07-05T00%3A00%3A00Z%5D&fq=docType_s%3AART&fl=label_s%2Curi_s%2Ckeyword_s%2CauthEmail_s%2CauthFullName_s%2CauthFirstName_s%2CauthLastName_s%2CauthStructId_i%2CauthId_i%2CauthIdHasPrimaryStructure_fs%2CauthIdHasStructure_fs%2Ckeyword_s%2Cjel_s%2CjournalIssn_s%2CjournalTitle_s%2CanrProjectReference_s%2CanrProjectTitle_s%2CanrProjectAcronym_s%2CeuropeanProjectReference_s%2CeuropeanProjectReference_s%2CeuropeanProjectAcronym_s%2Cfunding_s%2CinstStructCountry_s%2CinstStructName_s%2Cfiles_s%2Clanguage_s%2ClabStructAcronym_s%2ClabStructCode_s%2CcontributorFullName_s%2CopenAccess_bool&rows=475\n"
     ]
    }
   ],
   "source": [
    "r = requests.get('http://api.archives-ouvertes.fr/search', params={**params | dict(rows=num_found)})\n",
    "print(f'Read the documents : {r.url}')\n",
    "\n",
    "with open(f'./result.{EXPORT_DATE}.json', 'w') as f:\n",
    "    f.write(r.text)"
   ]
  },
  {
   "cell_type": "markdown",
   "id": "192d5265-bf17-4e48-9a91-2d01762a1719",
   "metadata": {},
   "source": [
    "### Comparaison with a previous CSV file\n",
    "\n",
    "This is used to compare the current export with a previous result file if there is one to find changes.\n",
    "\n",
    "As input previous data, we have a CSV file. This CSV file should contains the following columns: \n",
    "* `uri_s`\n",
    "* `count`"
   ]
  },
  {
   "cell_type": "code",
   "execution_count": 5,
   "id": "e283ce5b-2692-4b2c-b8fe-e34bf9d6b2db",
   "metadata": {},
   "outputs": [],
   "source": [
    "df_now = pd.DataFrame.from_dict(r.json().get('response').get('docs'))\n",
    "df_previous = pd.read_csv('./uri.base.csv', sep=',')"
   ]
  },
  {
   "cell_type": "code",
   "execution_count": 6,
   "id": "6f012ed8-cec9-4c21-a5cd-8bd90dcfb447",
   "metadata": {},
   "outputs": [
    {
     "data": {
      "text/plain": [
       "['https://halshs.archives-ouvertes.fr/halshs-02334593',\n",
       " 'https://hal-amu.archives-ouvertes.fr/hal-02111159',\n",
       " 'https://halshs.archives-ouvertes.fr/halshs-03201787',\n",
       " 'https://hal.archives-ouvertes.fr/hal-01577452',\n",
       " 'https://hal-cnam.archives-ouvertes.fr/hal-02485454']"
      ]
     },
     "execution_count": 6,
     "metadata": {},
     "output_type": "execute_result"
    }
   ],
   "source": [
    "df_merge = df_previous.rename(columns={'count': 'yesterday'}).merge(df_now.rename(columns={'label_s': 'today'})[['uri_s', 'today']], how='left', on='uri_s')\n",
    "df_merge = df_merge[df_merge['today'].isnull()]['uri_s'].tolist()\n",
    "df_merge"
   ]
  },
  {
   "cell_type": "markdown",
   "id": "3f32fb8c-95b0-44d0-9499-c982649a6fdb",
   "metadata": {
    "tags": []
   },
   "source": [
    "## Dataset corrections\n",
    "\n"
   ]
  },
  {
   "cell_type": "markdown",
   "id": "edeac058-768f-44d4-a828-2e020ce28a1f",
   "metadata": {},
   "source": [
    "### Diff until now\n",
    "\n",
    "As some editor may replace the submitted text, the resulting document is not available anymore for the `submittedDate_tdate` in the previous resulting query.\n",
    "\n",
    "We have to read the difference with the now on the field `submittedDate_tdate` to retrieve the right documents."
   ]
  },
  {
   "cell_type": "code",
   "execution_count": 7,
   "id": "a6bd855b-2d7c-4ec0-8963-b07fb26e1a9b",
   "metadata": {},
   "outputs": [
    {
     "name": "stdout",
     "output_type": "stream",
     "text": [
      "The is 33 documents response for query :\n",
      "{\n",
      "  \"wt\": \"json\",\n",
      "  \"q\": \"labStructId_i:15080\",\n",
      "  \"fq\": [\n",
      "    \"publicationDate_tdate:[2017-01-01T00:00:00Z TO 2021-07-01T00:00:00Z]\",\n",
      "    \"submittedDate_tdate:[2021-07-05T00:00:00Z TO NOW]\",\n",
      "    \"docType_s:ART\"\n",
      "  ],\n",
      "  \"fl\": \"label_s,uri_s,keyword_s,authEmail_s,authFullName_s,authFirstName_s,authLastName_s,authStructId_i,authId_i,authIdHasPrimaryStructure_fs,authIdHasStructure_fs,keyword_s,jel_s,journalIssn_s,journalTitle_s,anrProjectReference_s,anrProjectTitle_s,anrProjectAcronym_s,europeanProjectReference_s,europeanProjectReference_s,europeanProjectAcronym_s,funding_s,instStructCountry_s,instStructName_s,files_s,language_s,labStructAcronym_s,labStructCode_s,contributorFullName_s,openAccess_bool\"\n",
      "}\n"
     ]
    }
   ],
   "source": [
    "filter_queries = dict(\n",
    "    publicationDate_tdate='[2017-01-01T00:00:00Z TO 2021-07-01T00:00:00Z]',\n",
    "    submittedDate_tdate='[2021-07-05T00:00:00Z TO NOW]',\n",
    "    docType_s='ART'\n",
    ")\n",
    "# We will use the same response fields\n",
    "# response_fields = []\n",
    "params = dict(\n",
    "    wt='json',\n",
    "    q=f'labStructId_i:{LAB_STRUCT_ID}',\n",
    "    fq=[f'{k}:{v}' for k, v in filter_queries.items()],\n",
    "    fl=','.join(response_fields)\n",
    ")\n",
    "# Count the number of rows\n",
    "r = requests.get('http://api.archives-ouvertes.fr/search', params={**params | dict(rows=0)})\n",
    "num_found = r.json().get('response', dict()).get('numFound', 0)\n",
    "print(f'The is {num_found} documents response for query :\\n{json.dumps(params, indent=2)}')"
   ]
  },
  {
   "cell_type": "code",
   "execution_count": 8,
   "id": "92a3f9ad-7d15-4e30-b525-394cf1090a66",
   "metadata": {},
   "outputs": [
    {
     "name": "stdout",
     "output_type": "stream",
     "text": [
      "Read the documents : http://api.archives-ouvertes.fr/search?wt=json&q=labStructId_i%3A15080&fq=publicationDate_tdate%3A%5B2017-01-01T00%3A00%3A00Z+TO+2021-07-01T00%3A00%3A00Z%5D&fq=submittedDate_tdate%3A%5B2021-07-05T00%3A00%3A00Z+TO+NOW%5D&fq=docType_s%3AART&fl=label_s%2Curi_s%2Ckeyword_s%2CauthEmail_s%2CauthFullName_s%2CauthFirstName_s%2CauthLastName_s%2CauthStructId_i%2CauthId_i%2CauthIdHasPrimaryStructure_fs%2CauthIdHasStructure_fs%2Ckeyword_s%2Cjel_s%2CjournalIssn_s%2CjournalTitle_s%2CanrProjectReference_s%2CanrProjectTitle_s%2CanrProjectAcronym_s%2CeuropeanProjectReference_s%2CeuropeanProjectReference_s%2CeuropeanProjectAcronym_s%2Cfunding_s%2CinstStructCountry_s%2CinstStructName_s%2Cfiles_s%2Clanguage_s%2ClabStructAcronym_s%2ClabStructCode_s%2CcontributorFullName_s%2CopenAccess_bool&rows=33\n"
     ]
    }
   ],
   "source": [
    "r = requests.get('http://api.archives-ouvertes.fr/search', params={**params | dict(rows=num_found)})\n",
    "print(f'Read the documents : {r.url}')\n",
    "\n",
    "with open(f'./result-diff.{EXPORT_DATE}.json', 'w') as f:\n",
    "    f.write(r.text)"
   ]
  },
  {
   "cell_type": "markdown",
   "id": "e6364cf8-a8c4-411c-942c-ce799ae616ac",
   "metadata": {},
   "source": [
    "### Extract the URI and manually validate them\n"
   ]
  },
  {
   "cell_type": "code",
   "execution_count": 9,
   "id": "1b0ed6a1-c713-4bef-97c9-58ffca32f82f",
   "metadata": {},
   "outputs": [
    {
     "data": {
      "text/html": [
       "<div>\n",
       "<style scoped>\n",
       "    .dataframe tbody tr th:only-of-type {\n",
       "        vertical-align: middle;\n",
       "    }\n",
       "\n",
       "    .dataframe tbody tr th {\n",
       "        vertical-align: top;\n",
       "    }\n",
       "\n",
       "    .dataframe thead th {\n",
       "        text-align: right;\n",
       "    }\n",
       "</style>\n",
       "<table border=\"1\" class=\"dataframe\">\n",
       "  <thead>\n",
       "    <tr style=\"text-align: right;\">\n",
       "      <th></th>\n",
       "      <th>uri_s</th>\n",
       "    </tr>\n",
       "  </thead>\n",
       "  <tbody>\n",
       "    <tr>\n",
       "      <th>0</th>\n",
       "      <td>https://hal.archives-ouvertes.fr/hal-03153465</td>\n",
       "    </tr>\n",
       "    <tr>\n",
       "      <th>1</th>\n",
       "      <td>https://hal.archives-ouvertes.fr/hal-03329203</td>\n",
       "    </tr>\n",
       "    <tr>\n",
       "      <th>2</th>\n",
       "      <td>https://halshs.archives-ouvertes.fr/halshs-032...</td>\n",
       "    </tr>\n",
       "    <tr>\n",
       "      <th>3</th>\n",
       "      <td>https://hal.archives-ouvertes.fr/hal-03281809</td>\n",
       "    </tr>\n",
       "    <tr>\n",
       "      <th>4</th>\n",
       "      <td>https://halshs.archives-ouvertes.fr/halshs-033...</td>\n",
       "    </tr>\n",
       "    <tr>\n",
       "      <th>5</th>\n",
       "      <td>https://hal.archives-ouvertes.fr/hal-03350974</td>\n",
       "    </tr>\n",
       "    <tr>\n",
       "      <th>6</th>\n",
       "      <td>https://hal-sciencespo.archives-ouvertes.fr/ha...</td>\n",
       "    </tr>\n",
       "    <tr>\n",
       "      <th>7</th>\n",
       "      <td>https://hal.archives-ouvertes.fr/hal-03389540</td>\n",
       "    </tr>\n",
       "    <tr>\n",
       "      <th>8</th>\n",
       "      <td>https://hal.archives-ouvertes.fr/hal-03281509</td>\n",
       "    </tr>\n",
       "    <tr>\n",
       "      <th>9</th>\n",
       "      <td>https://halshs.archives-ouvertes.fr/halshs-023...</td>\n",
       "    </tr>\n",
       "    <tr>\n",
       "      <th>10</th>\n",
       "      <td>https://halshs.archives-ouvertes.fr/halshs-033...</td>\n",
       "    </tr>\n",
       "    <tr>\n",
       "      <th>11</th>\n",
       "      <td>https://hal.archives-ouvertes.fr/hal-02195926</td>\n",
       "    </tr>\n",
       "    <tr>\n",
       "      <th>12</th>\n",
       "      <td>https://hal.archives-ouvertes.fr/hal-03034701</td>\n",
       "    </tr>\n",
       "    <tr>\n",
       "      <th>13</th>\n",
       "      <td>https://hal.archives-ouvertes.fr/hal-03353422</td>\n",
       "    </tr>\n",
       "    <tr>\n",
       "      <th>14</th>\n",
       "      <td>https://hal.archives-ouvertes.fr/hal-02367200v3</td>\n",
       "    </tr>\n",
       "    <tr>\n",
       "      <th>15</th>\n",
       "      <td>https://halshs.archives-ouvertes.fr/halshs-033...</td>\n",
       "    </tr>\n",
       "    <tr>\n",
       "      <th>16</th>\n",
       "      <td>https://hal.archives-ouvertes.fr/hal-03329190</td>\n",
       "    </tr>\n",
       "    <tr>\n",
       "      <th>17</th>\n",
       "      <td>https://hal.archives-ouvertes.fr/hal-03355063</td>\n",
       "    </tr>\n",
       "    <tr>\n",
       "      <th>18</th>\n",
       "      <td>https://hal.archives-ouvertes.fr/hal-03355778</td>\n",
       "    </tr>\n",
       "    <tr>\n",
       "      <th>19</th>\n",
       "      <td>https://hal.archives-ouvertes.fr/hal-03330739</td>\n",
       "    </tr>\n",
       "    <tr>\n",
       "      <th>20</th>\n",
       "      <td>https://hal.archives-ouvertes.fr/hal-03330856</td>\n",
       "    </tr>\n",
       "    <tr>\n",
       "      <th>21</th>\n",
       "      <td>https://hal.univ-lille.fr/hal-03367431</td>\n",
       "    </tr>\n",
       "    <tr>\n",
       "      <th>22</th>\n",
       "      <td>https://halshs.archives-ouvertes.fr/halshs-032...</td>\n",
       "    </tr>\n",
       "    <tr>\n",
       "      <th>23</th>\n",
       "      <td>https://hal-sciencespo.archives-ouvertes.fr/ha...</td>\n",
       "    </tr>\n",
       "    <tr>\n",
       "      <th>24</th>\n",
       "      <td>https://hal.archives-ouvertes.fr/hal-03384746</td>\n",
       "    </tr>\n",
       "    <tr>\n",
       "      <th>25</th>\n",
       "      <td>https://hal.archives-ouvertes.fr/hal-03355464</td>\n",
       "    </tr>\n",
       "    <tr>\n",
       "      <th>26</th>\n",
       "      <td>https://hal-paris1.archives-ouvertes.fr/hal-03...</td>\n",
       "    </tr>\n",
       "    <tr>\n",
       "      <th>27</th>\n",
       "      <td>https://hal.archives-ouvertes.fr/hal-03356664</td>\n",
       "    </tr>\n",
       "    <tr>\n",
       "      <th>28</th>\n",
       "      <td>https://hal.archives-ouvertes.fr/hal-03281830</td>\n",
       "    </tr>\n",
       "    <tr>\n",
       "      <th>29</th>\n",
       "      <td>https://hal.archives-ouvertes.fr/hal-03281842</td>\n",
       "    </tr>\n",
       "    <tr>\n",
       "      <th>30</th>\n",
       "      <td>https://hal.archives-ouvertes.fr/hal-01726578</td>\n",
       "    </tr>\n",
       "    <tr>\n",
       "      <th>31</th>\n",
       "      <td>https://hal.archives-ouvertes.fr/hal-02093378</td>\n",
       "    </tr>\n",
       "    <tr>\n",
       "      <th>32</th>\n",
       "      <td>https://halshs.archives-ouvertes.fr/halshs-023...</td>\n",
       "    </tr>\n",
       "  </tbody>\n",
       "</table>\n",
       "</div>"
      ],
      "text/plain": [
       "                                                uri_s\n",
       "0       https://hal.archives-ouvertes.fr/hal-03153465\n",
       "1       https://hal.archives-ouvertes.fr/hal-03329203\n",
       "2   https://halshs.archives-ouvertes.fr/halshs-032...\n",
       "3       https://hal.archives-ouvertes.fr/hal-03281809\n",
       "4   https://halshs.archives-ouvertes.fr/halshs-033...\n",
       "5       https://hal.archives-ouvertes.fr/hal-03350974\n",
       "6   https://hal-sciencespo.archives-ouvertes.fr/ha...\n",
       "7       https://hal.archives-ouvertes.fr/hal-03389540\n",
       "8       https://hal.archives-ouvertes.fr/hal-03281509\n",
       "9   https://halshs.archives-ouvertes.fr/halshs-023...\n",
       "10  https://halshs.archives-ouvertes.fr/halshs-033...\n",
       "11      https://hal.archives-ouvertes.fr/hal-02195926\n",
       "12      https://hal.archives-ouvertes.fr/hal-03034701\n",
       "13      https://hal.archives-ouvertes.fr/hal-03353422\n",
       "14    https://hal.archives-ouvertes.fr/hal-02367200v3\n",
       "15  https://halshs.archives-ouvertes.fr/halshs-033...\n",
       "16      https://hal.archives-ouvertes.fr/hal-03329190\n",
       "17      https://hal.archives-ouvertes.fr/hal-03355063\n",
       "18      https://hal.archives-ouvertes.fr/hal-03355778\n",
       "19      https://hal.archives-ouvertes.fr/hal-03330739\n",
       "20      https://hal.archives-ouvertes.fr/hal-03330856\n",
       "21             https://hal.univ-lille.fr/hal-03367431\n",
       "22  https://halshs.archives-ouvertes.fr/halshs-032...\n",
       "23  https://hal-sciencespo.archives-ouvertes.fr/ha...\n",
       "24      https://hal.archives-ouvertes.fr/hal-03384746\n",
       "25      https://hal.archives-ouvertes.fr/hal-03355464\n",
       "26  https://hal-paris1.archives-ouvertes.fr/hal-03...\n",
       "27      https://hal.archives-ouvertes.fr/hal-03356664\n",
       "28      https://hal.archives-ouvertes.fr/hal-03281830\n",
       "29      https://hal.archives-ouvertes.fr/hal-03281842\n",
       "30      https://hal.archives-ouvertes.fr/hal-01726578\n",
       "31      https://hal.archives-ouvertes.fr/hal-02093378\n",
       "32  https://halshs.archives-ouvertes.fr/halshs-023..."
      ]
     },
     "execution_count": 9,
     "metadata": {},
     "output_type": "execute_result"
    }
   ],
   "source": [
    "ddf = pd.DataFrame.from_dict(r.json().get('response').get('docs'))\n",
    "ddfu = ddf[['uri_s']]\n",
    "ddfu.to_csv(f'./diff.result.{EXPORT_DATE}.csv', index=False)\n",
    "ddfu"
   ]
  }
 ],
 "metadata": {
  "kernelspec": {
   "display_name": "Python 3 (ipykernel)",
   "language": "python",
   "name": "python3"
  },
  "language_info": {
   "codemirror_mode": {
    "name": "ipython",
    "version": 3
   },
   "file_extension": ".py",
   "mimetype": "text/x-python",
   "name": "python",
   "nbconvert_exporter": "python",
   "pygments_lexer": "ipython3",
   "version": "3.9.7"
  }
 },
 "nbformat": 4,
 "nbformat_minor": 5
}
